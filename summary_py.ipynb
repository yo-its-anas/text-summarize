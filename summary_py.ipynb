{
  "nbformat": 4,
  "nbformat_minor": 0,
  "metadata": {
    "colab": {
      "provenance": [],
      "authorship_tag": "ABX9TyNxNq4ovpHd30CD5FZitECJ",
      "include_colab_link": true
    },
    "kernelspec": {
      "name": "python3",
      "display_name": "Python 3"
    },
    "language_info": {
      "name": "python"
    }
  },
  "cells": [
    {
      "cell_type": "markdown",
      "metadata": {
        "id": "view-in-github",
        "colab_type": "text"
      },
      "source": [
        "<a href=\"https://colab.research.google.com/github/yo-its-anas/text-summarize/blob/main/summary_py.ipynb\" target=\"_parent\"><img src=\"https://colab.research.google.com/assets/colab-badge.svg\" alt=\"Open In Colab\"/></a>"
      ]
    },
    {
      "cell_type": "code",
      "source": [
        "import streamlit as st\n",
        "from transformers import pipeline\n",
        "\n",
        "# Title of the app\n",
        "st.title(\"Text Summarization App\")\n",
        "\n",
        "# Instructions\n",
        "st.write(\"\"\"\n",
        "This application uses the Falconsai/text_summarization model to generate summaries of input text.\n",
        "Simply paste a long paragraph, and it will return a concise summary.\n",
        "\"\"\")\n",
        "\n",
        "# Input text box\n",
        "input_text = st.text_area(\"Enter the text you want to summarize\", height=200)\n",
        "\n",
        "# Summarization pipeline\n",
        "@st.cache_resource\n",
        "def load_summarization_model():\n",
        "    return pipeline(\"summarization\", model=\"Falconsai/text_summarization\")\n",
        "\n",
        "summarizer = load_summarization_model()\n",
        "\n",
        "# Button to trigger summarization\n",
        "if st.button(\"Summarize\"):\n",
        "    if input_text.strip() != \"\":\n",
        "        with st.spinner(\"Summarizing...\"):\n",
        "            summary = summarizer(input_text)[0]['summary_text']\n",
        "        st.subheader(\"Summary:\")\n",
        "        st.write(summary)\n",
        "    else:\n",
        "        st.warning(\"Please enter some text to summarize.\")\n",
        "\n",
        "# Footer\n",
        "st.write(\"Made with Streamlit and Transformers 🤗\")\n"
      ],
      "metadata": {
        "id": "jZR8l6xuI414"
      },
      "execution_count": null,
      "outputs": []
    }
  ]
}